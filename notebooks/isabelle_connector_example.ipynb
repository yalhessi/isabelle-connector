{
 "cells": [
  {
   "cell_type": "markdown",
   "metadata": {},
   "source": [
    "## Setup"
   ]
  },
  {
   "cell_type": "code",
   "execution_count": 1,
   "metadata": {},
   "outputs": [],
   "source": [
    "from isabelle_connector.utils import prepare_notebook\n",
    "\n",
    "prepare_notebook()"
   ]
  },
  {
   "cell_type": "code",
   "execution_count": 2,
   "metadata": {},
   "outputs": [],
   "source": [
    "%reload isabelle_connector"
   ]
  },
  {
   "cell_type": "code",
   "execution_count": 3,
   "metadata": {},
   "outputs": [],
   "source": [
    "from isabelle_connector.isabelle_connector import IsabelleConnector\n",
    "from isabelle_connector.isabelle_utils import get_theory, list_theory_files, temp_theory\n"
   ]
  },
  {
   "cell_type": "code",
   "execution_count": 16,
   "metadata": {},
   "outputs": [
    {
     "name": "stderr",
     "output_type": "stream",
     "text": [
      "### Missing Isabelle component: \"/home/ubuntu/.isabelle/contrib/hugo-0.119.0\"\n"
     ]
    }
   ],
   "source": [
    "isabelle = IsabelleConnector(\n",
    "    name=\"test_connector\", working_directory=\"/public/yousef/Isabelle2024/src/HOL\"\n",
    ")"
   ]
  },
  {
   "cell_type": "markdown",
   "metadata": {},
   "source": [
    "## Hello, World! Test Theory"
   ]
  },
  {
   "cell_type": "code",
   "execution_count": 5,
   "metadata": {},
   "outputs": [],
   "source": [
    "test_thy = temp_theory(\n",
    "    name=\"ConnectorTest\",\n",
    "    working_directory=isabelle.working_directory,\n",
    "    imports=[],\n",
    "    queries=[\n",
    "        'ML\\\\<open> let val res = \"Hello, World!\" in res end \\\\<close>',  # Make sure to define any values you want to retrieve in the ML block\n",
    "    ],\n",
    ")"
   ]
  },
  {
   "cell_type": "code",
   "execution_count": 6,
   "metadata": {},
   "outputs": [
    {
     "name": "stderr",
     "output_type": "stream",
     "text": [
      "/home/ubuntu/.conda/envs/lemexp/lib/python3.12/asyncio/streams.py:416: ResourceWarning: unclosed <StreamWriter transport=<_SelectorSocketTransport closing fd=79 read=idle write=<idle, bufsize=0>> reader=<StreamReader transport=<_SelectorSocketTransport closing fd=79 read=idle write=<idle, bufsize=0>>>>\n",
      "  warnings.warn(f\"unclosed {self!r}\", ResourceWarning)\n"
     ]
    },
    {
     "name": "stdout",
     "output_type": "stream",
     "text": [
      "func:use_theories took: 8.946240901947021 sec\n"
     ]
    }
   ],
   "source": [
    "test_thy_result = isabelle.use_theories([test_thy])"
   ]
  },
  {
   "cell_type": "code",
   "execution_count": 7,
   "metadata": {},
   "outputs": [
    {
     "data": {
      "text/plain": [
       "{'ConnectorTest': ['Hello, World!']}"
      ]
     },
     "execution_count": 7,
     "metadata": {},
     "output_type": "execute_result"
    }
   ],
   "source": [
    "test_thy_result"
   ]
  },
  {
   "cell_type": "markdown",
   "metadata": {},
   "source": [
    "## Trivial Theorem Test Theory"
   ]
  },
  {
   "cell_type": "code",
   "execution_count": 17,
   "metadata": {},
   "outputs": [],
   "source": [
    "trivial_theorem_thy = temp_theory(\n",
    "    name=\"TrivialTheorem\",\n",
    "    working_directory=isabelle.working_directory,\n",
    "    imports=[],\n",
    "    queries=[\n",
    "        \"theorem TrueI: True\",\n",
    "        \"sorry\",\n",
    "        'ML\\\\<open> val thm = @{thm \"TrueI\"} \\\\<close>',\n",
    "    ],\n",
    ")"
   ]
  },
  {
   "cell_type": "code",
   "execution_count": 18,
   "metadata": {},
   "outputs": [
    {
     "name": "stdout",
     "output_type": "stream",
     "text": [
      "theory TrivialTheorem\n",
      "            imports Main  begin\n",
      "            declare [[show_markup = false]]\n",
      "            declare [[show_consts = true]]\n",
      "            declare [[show_abbrevs = true]]\n",
      "            declare [[names_long = false]]\n",
      "            declare [[ML_print_depth=1000000]]\n",
      "            declare [[syntax_ambiguity_warning = false]]\n",
      "            theorem TrueI: True\n",
      "sorry\n",
      "ML\\<open> val thm = @{thm \"TrueI\"} \\<close>\n",
      "            end\n"
     ]
    }
   ],
   "source": [
    "print(trivial_theorem_thy)"
   ]
  },
  {
   "cell_type": "code",
   "execution_count": 24,
   "metadata": {},
   "outputs": [
    {
     "name": "stderr",
     "output_type": "stream",
     "text": [
      "/home/ubuntu/.conda/envs/lemexp/lib/python3.12/asyncio/streams.py:416: ResourceWarning: unclosed <StreamWriter transport=<_SelectorSocketTransport closing fd=80 read=idle write=<idle, bufsize=0>> reader=<StreamReader transport=<_SelectorSocketTransport closing fd=80 read=idle write=<idle, bufsize=0>>>>\n",
      "  warnings.warn(f\"unclosed {self!r}\", ResourceWarning)\n"
     ]
    },
    {
     "name": "stdout",
     "output_type": "stream",
     "text": [
      "func:use_theories took: 6.415729761123657 sec\n"
     ]
    }
   ],
   "source": [
    "trivial_theorem_thy_result = isabelle.use_theories([trivial_theorem_thy], rm_after=False) # keep the temporary theory file to retrieve transitions next"
   ]
  },
  {
   "cell_type": "code",
   "execution_count": 25,
   "metadata": {},
   "outputs": [
    {
     "data": {
      "text/plain": [
       "{'TrivialTheorem': ['True']}"
      ]
     },
     "execution_count": 25,
     "metadata": {},
     "output_type": "execute_result"
    }
   ],
   "source": [
    "trivial_theorem_thy_result"
   ]
  },
  {
   "cell_type": "markdown",
   "metadata": {},
   "source": [
    "## Transitions of Trivial Theorem"
   ]
  },
  {
   "cell_type": "code",
   "execution_count": 26,
   "metadata": {},
   "outputs": [],
   "source": [
    "from argparse import Namespace\n",
    "\n",
    "from isabelle_connector.extraction import transitions_theory\n",
    "\n",
    "\n",
    "transition_configs = Namespace(\n",
    "    imports=[\"/public/yousef/isabelle-connector/isabelle-thys/Extract\"],\n",
    "    root_dir=isabelle.working_directory,\n",
    ")\n",
    "transitions_of_trivial_thy = transitions_theory(trivial_theorem_thy, transition_configs)"
   ]
  },
  {
   "cell_type": "code",
   "execution_count": 27,
   "metadata": {},
   "outputs": [
    {
     "name": "stderr",
     "output_type": "stream",
     "text": [
      "/home/ubuntu/.conda/envs/lemexp/lib/python3.12/asyncio/streams.py:416: ResourceWarning: unclosed <StreamWriter transport=<_SelectorSocketTransport closing fd=81 read=idle write=<idle, bufsize=0>> reader=<StreamReader transport=<_SelectorSocketTransport closing fd=81 read=idle write=<idle, bufsize=0>>>>\n",
      "  warnings.warn(f\"unclosed {self!r}\", ResourceWarning)\n"
     ]
    },
    {
     "name": "stdout",
     "output_type": "stream",
     "text": [
      "func:use_theories took: 6.757688522338867 sec\n"
     ]
    },
    {
     "name": "stderr",
     "output_type": "stream",
     "text": [
      "<string>:1: SyntaxWarning: invalid escape sequence '\\<'\n"
     ]
    }
   ],
   "source": [
    "transitions_of_trivial_results = isabelle.use_theories([transitions_of_trivial_thy])"
   ]
  },
  {
   "cell_type": "code",
   "execution_count": 28,
   "metadata": {},
   "outputs": [
    {
     "data": {
      "text/plain": [
       "{'Transitions_TrivialTheorem': [('TrivialTheorem',\n",
       "   [('theory', 'theory TrivialTheorem\\n            imports Main  begin'),\n",
       "    ('<ignored>', '\\n            '),\n",
       "    ('declare', 'declare [[show_markup = False]]'),\n",
       "    ('<ignored>', '\\n            '),\n",
       "    ('declare', 'declare [[show_consts = True]]'),\n",
       "    ('<ignored>', '\\n            '),\n",
       "    ('declare', 'declare [[show_abbrevs = True]]'),\n",
       "    ('<ignored>', '\\n            '),\n",
       "    ('declare', 'declare [[names_long = False]]'),\n",
       "    ('<ignored>', '\\n            '),\n",
       "    ('declare', 'declare [[ML_print_depth=1000000]]'),\n",
       "    ('<ignored>', '\\n            '),\n",
       "    ('declare', 'declare [[syntax_ambiguity_warning = False]]'),\n",
       "    ('<ignored>', '\\n            '),\n",
       "    ('theorem', 'theorem TrueI: True'),\n",
       "    ('<ignored>', '\\n'),\n",
       "    ('sorry', 'sorry'),\n",
       "    ('<ignored>', '\\n'),\n",
       "    ('ML', 'ML\\\\<open> val thm = @{thm \"TrueI\"} \\\\<close>'),\n",
       "    ('<ignored>', '\\n            '),\n",
       "    ('end', 'end')])]}"
      ]
     },
     "execution_count": 28,
     "metadata": {},
     "output_type": "execute_result"
    }
   ],
   "source": [
    "transitions_of_trivial_results"
   ]
  },
  {
   "cell_type": "markdown",
   "metadata": {},
   "source": [
    "## Transitions of existing theory"
   ]
  },
  {
   "cell_type": "code",
   "execution_count": 29,
   "metadata": {},
   "outputs": [],
   "source": [
    "theory_name = \"/public/yousef/Isabelle2024/src/HOL/IMP/AExp.thy\"\n",
    "transitions_thy = transitions_theory(get_theory(theory_name, isabelle.working_directory), transition_configs)"
   ]
  },
  {
   "cell_type": "code",
   "execution_count": 30,
   "metadata": {},
   "outputs": [
    {
     "name": "stdout",
     "output_type": "stream",
     "text": [
      "func:use_theories took: 6.3463239669799805 sec\n"
     ]
    }
   ],
   "source": [
    "transitions_results = isabelle.use_theories([transitions_thy])"
   ]
  },
  {
   "cell_type": "code",
   "execution_count": 32,
   "metadata": {},
   "outputs": [
    {
     "data": {
      "text/plain": [
       "{'Transitions_IMP_AExp': [('IMP/AExp',\n",
       "   [('section', 'section \"Arithmetic and Boolean Expressions\"'),\n",
       "    ('<ignored>', '\\n\\n'),\n",
       "    ('subsection', 'subsection \"Arithmetic Expressions\"'),\n",
       "    ('<ignored>', '\\n\\n'),\n",
       "    ('theory', 'theory AExp imports Main begin'),\n",
       "    ('<ignored>', '\\n\\n'),\n",
       "    ('type_synonym', 'type_synonym vname = string'),\n",
       "    ('<ignored>', '\\n'),\n",
       "    ('type_synonym', 'type_synonym val = int'),\n",
       "    ('<ignored>', '\\n'),\n",
       "    ('type_synonym', 'type_synonym state = \"vname \\\\<Rightarrow> val\"'),\n",
       "    ('<ignored>', '\\n\\n'),\n",
       "    ('text_raw', 'text_raw\\\\<open>\\\\snip{AExpaexpdef}{2}{1}{%\\\\<close>'),\n",
       "    ('<ignored>', '\\n'),\n",
       "    ('datatype', 'datatype aexp = N int | V vname | Plus aexp aexp'),\n",
       "    ('<ignored>', '\\n'),\n",
       "    ('text_raw', 'text_raw\\\\<open>}%endsnip\\\\<close>'),\n",
       "    ('<ignored>', '\\n\\n'),\n",
       "    ('text_raw', 'text_raw\\\\<open>\\\\snip{AExpavaldef}{1}{2}{%\\\\<close>'),\n",
       "    ('<ignored>', '\\n'),\n",
       "    ('fun',\n",
       "     'fun aval :: \"aexp \\\\<Rightarrow> state \\\\<Rightarrow> val\" where\\n\"aval (N n) s = n\" |\\n\"aval (V x) s = s x\" |\\n\"aval (Plus a\\\\<^sub>1 a\\\\<^sub>2) s = aval a\\\\<^sub>1 s + aval a\\\\<^sub>2 s\"'),\n",
       "    ('<ignored>', '\\n'),\n",
       "    ('text_raw', 'text_raw\\\\<open>}%endsnip\\\\<close>'),\n",
       "    ('<ignored>', '\\n\\n\\n'),\n",
       "    ('value',\n",
       "     'value \"aval (Plus (V \\'\\'x\\'\\') (N 5)) (\\\\<lambda>x. if x = \\'\\'x\\'\\' then 7 else 0)\"'),\n",
       "    ('<ignored>', '\\n\\n'),\n",
       "    ('text', 'text \\\\<open>The same state more concisely:\\\\<close>'),\n",
       "    ('<ignored>', '\\n'),\n",
       "    ('value',\n",
       "     'value \"aval (Plus (V \\'\\'x\\'\\') (N 5)) ((\\\\<lambda>x. 0) (\\'\\'x\\'\\':= 7))\"'),\n",
       "    ('<ignored>', '\\n\\n'),\n",
       "    ('text',\n",
       "     'text \\\\<open>A little syntax magic to write larger states compactly:\\\\<close>'),\n",
       "    ('<ignored>', '\\n\\n'),\n",
       "    ('definition',\n",
       "     'definition null_state (\"<>\") where\\n  \"null_state \\\\<equiv> \\\\<lambda>x. 0\"'),\n",
       "    ('<ignored>', '\\n'),\n",
       "    ('syntax', 'syntax \\n  \"_State\" :: \"updbinds => \\'a\" (\"<_>\")'),\n",
       "    ('<ignored>', '\\n'),\n",
       "    ('translations',\n",
       "     'translations\\n  \"_State ms\" == \"_Update <> ms\"\\n  \"_State (_updbinds b bs)\" <= \"_Update (_State b) bs\"'),\n",
       "    ('<ignored>', '\\n\\n'),\n",
       "    ('text',\n",
       "     'text \\\\<open>\\\\noindent\\n  We can now write a series of updates to the function \\\\<open>\\\\<lambda>x. 0\\\\<close> compactly:\\n\\\\<close>'),\n",
       "    ('<ignored>', '\\n'),\n",
       "    ('lemma', 'lemma \"<a := 1, b := 2> = (<> (a := 1)) (b := (2::int))\"'),\n",
       "    ('<ignored>', '\\n  '),\n",
       "    ('by', 'by (rule refl)'),\n",
       "    ('<ignored>', '\\n\\n'),\n",
       "    ('value', 'value \"aval (Plus (V \\'\\'x\\'\\') (N 5)) <\\'\\'x\\'\\' := 7>\"'),\n",
       "    ('<ignored>', '\\n\\n\\n'),\n",
       "    ('text',\n",
       "     'text \\\\<open>In  the @{term[source] \"<a := b>\"} syntax, variables that are not mentioned are 0 by default:\\n\\\\<close>'),\n",
       "    ('<ignored>', '\\n'),\n",
       "    ('value', 'value \"aval (Plus (V \\'\\'x\\'\\') (N 5)) <\\'\\'y\\'\\' := 7>\"'),\n",
       "    ('<ignored>', '\\n\\n'),\n",
       "    ('text',\n",
       "     'text\\\\<open>Note that this \\\\<open><\\\\<dots>>\\\\<close> syntax works for any function space\\n\\\\<open>\\\\<tau>\\\\<^sub>1 \\\\<Rightarrow> \\\\<tau>\\\\<^sub>2\\\\<close> where \\\\<open>\\\\<tau>\\\\<^sub>2\\\\<close> has a \\\\<open>0\\\\<close>.\\\\<close>'),\n",
       "    ('<ignored>', '\\n\\n\\n'),\n",
       "    ('subsection', 'subsection \"Constant Folding\"'),\n",
       "    ('<ignored>', '\\n\\n'),\n",
       "    ('text', 'text\\\\<open>Evaluate constant subsexpressions:\\\\<close>'),\n",
       "    ('<ignored>', '\\n\\n'),\n",
       "    ('text_raw', 'text_raw\\\\<open>\\\\snip{AExpasimpconstdef}{0}{2}{%\\\\<close>'),\n",
       "    ('<ignored>', '\\n'),\n",
       "    ('fun',\n",
       "     'fun asimp_const :: \"aexp \\\\<Rightarrow> aexp\" where\\n\"asimp_const (N n) = N n\" |\\n\"asimp_const (V x) = V x\" |\\n\"asimp_const (Plus a\\\\<^sub>1 a\\\\<^sub>2) =\\n  (case (asimp_const a\\\\<^sub>1, asimp_const a\\\\<^sub>2) of\\n    (N n\\\\<^sub>1, N n\\\\<^sub>2) \\\\<Rightarrow> N(n\\\\<^sub>1+n\\\\<^sub>2) |\\n    (b\\\\<^sub>1,b\\\\<^sub>2) \\\\<Rightarrow> Plus b\\\\<^sub>1 b\\\\<^sub>2)\"'),\n",
       "    ('<ignored>', '\\n'),\n",
       "    ('text_raw', 'text_raw\\\\<open>}%endsnip\\\\<close>'),\n",
       "    ('<ignored>', '\\n\\n'),\n",
       "    ('theorem',\n",
       "     'theorem aval_asimp_const:\\n  \"aval (asimp_const a) s = aval a s\"'),\n",
       "    ('<ignored>', '\\n'),\n",
       "    ('apply', 'apply(induction a)'),\n",
       "    ('<ignored>', '\\n'),\n",
       "    ('apply', 'apply (auto split: aexp.split)'),\n",
       "    ('<ignored>', '\\n'),\n",
       "    ('done', 'done'),\n",
       "    ('<ignored>', '\\n\\n'),\n",
       "    ('text',\n",
       "     'text\\\\<open>Now we also eliminate all occurrences 0 in additions. The standard\\nmethod: optimized versions of the constructors:\\\\<close>'),\n",
       "    ('<ignored>', '\\n\\n'),\n",
       "    ('text_raw', 'text_raw\\\\<open>\\\\snip{AExpplusdef}{0}{2}{%\\\\<close>'),\n",
       "    ('<ignored>', '\\n'),\n",
       "    ('fun',\n",
       "     'fun plus :: \"aexp \\\\<Rightarrow> aexp \\\\<Rightarrow> aexp\" where\\n\"plus (N i\\\\<^sub>1) (N i\\\\<^sub>2) = N(i\\\\<^sub>1+i\\\\<^sub>2)\" |\\n\"plus (N i) a = (if i=0 then a else Plus (N i) a)\" |\\n\"plus a (N i) = (if i=0 then a else Plus a (N i))\" |\\n\"plus a\\\\<^sub>1 a\\\\<^sub>2 = Plus a\\\\<^sub>1 a\\\\<^sub>2\"'),\n",
       "    ('<ignored>', '\\n'),\n",
       "    ('text_raw', 'text_raw\\\\<open>}%endsnip\\\\<close>'),\n",
       "    ('<ignored>', '\\n\\n'),\n",
       "    ('lemma',\n",
       "     'lemma aval_plus[simp]:\\n  \"aval (plus a1 a2) s = aval a1 s + aval a2 s\"'),\n",
       "    ('<ignored>', '\\n'),\n",
       "    ('apply', 'apply(induction a1 a2 rule: plus.induct)'),\n",
       "    ('<ignored>', '\\n'),\n",
       "    ('apply', 'apply simp_all'),\n",
       "    ('<ignored>', ' (* just for a change from auto *)\\n'),\n",
       "    ('done', 'done'),\n",
       "    ('<ignored>', '\\n\\n'),\n",
       "    ('text_raw', 'text_raw\\\\<open>\\\\snip{AExpasimpdef}{2}{0}{%\\\\<close>'),\n",
       "    ('<ignored>', '\\n'),\n",
       "    ('fun',\n",
       "     'fun asimp :: \"aexp \\\\<Rightarrow> aexp\" where\\n\"asimp (N n) = N n\" |\\n\"asimp (V x) = V x\" |\\n\"asimp (Plus a\\\\<^sub>1 a\\\\<^sub>2) = plus (asimp a\\\\<^sub>1) (asimp a\\\\<^sub>2)\"'),\n",
       "    ('<ignored>', '\\n'),\n",
       "    ('text_raw', 'text_raw\\\\<open>}%endsnip\\\\<close>'),\n",
       "    ('<ignored>', '\\n\\n'),\n",
       "    ('text',\n",
       "     'text\\\\<open>Note that in \\\\<^const>\\\\<open>asimp_const\\\\<close> the optimized constructor was\\ninlined. Making it a separate function \\\\<^const>\\\\<open>plus\\\\<close> improves modularity of\\nthe code and the proofs.\\\\<close>'),\n",
       "    ('<ignored>', '\\n\\n'),\n",
       "    ('value',\n",
       "     'value \"asimp (Plus (Plus (N 0) (N 0)) (Plus (V \\'\\'x\\'\\') (N 0)))\"'),\n",
       "    ('<ignored>', '\\n\\n'),\n",
       "    ('theorem', 'theorem aval_asimp[simp]:\\n  \"aval (asimp a) s = aval a s\"'),\n",
       "    ('<ignored>', '\\n'),\n",
       "    ('apply', 'apply(induction a)'),\n",
       "    ('<ignored>', '\\n'),\n",
       "    ('apply', 'apply simp_all'),\n",
       "    ('<ignored>', '\\n'),\n",
       "    ('done', 'done'),\n",
       "    ('<ignored>', '\\n\\n'),\n",
       "    ('end', 'end'),\n",
       "    ('<ignored>', '\\n')])]}"
      ]
     },
     "execution_count": 32,
     "metadata": {},
     "output_type": "execute_result"
    }
   ],
   "source": [
    "transitions_results"
   ]
  }
 ],
 "metadata": {
  "kernelspec": {
   "display_name": "lemexp",
   "language": "python",
   "name": "python3"
  },
  "language_info": {
   "codemirror_mode": {
    "name": "ipython",
    "version": 3
   },
   "file_extension": ".py",
   "mimetype": "text/x-python",
   "name": "python",
   "nbconvert_exporter": "python",
   "pygments_lexer": "ipython3",
   "version": "3.12.8"
  }
 },
 "nbformat": 4,
 "nbformat_minor": 2
}
