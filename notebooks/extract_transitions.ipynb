{
 "cells": [
  {
   "cell_type": "code",
   "execution_count": 1,
   "id": "060f4d38",
   "metadata": {},
   "outputs": [],
   "source": [
    "%load_ext autoreload\n",
    "%autoreload 2"
   ]
  },
  {
   "cell_type": "code",
   "execution_count": 2,
   "id": "bf49d966",
   "metadata": {},
   "outputs": [],
   "source": [
    "from isabelle_connector.isabelle_connector import IsabelleConnector"
   ]
  },
  {
   "cell_type": "code",
   "execution_count": 3,
   "id": "426e8fff",
   "metadata": {},
   "outputs": [
    {
     "name": "stderr",
     "output_type": "stream",
     "text": [
      "### Missing Isabelle component: \"/Users/yousef/.isabelle/contrib/hugo-0.119.0\"\n"
     ]
    }
   ],
   "source": [
    "isabelle = IsabelleConnector(\n",
    "    name=\"extract_transitions\", working_directory=\".\", debug=True\n",
    ")"
   ]
  },
  {
   "cell_type": "code",
   "execution_count": 7,
   "id": "a6998d52",
   "metadata": {},
   "outputs": [],
   "source": [
    "from argparse import Namespace\n",
    "\n",
    "from isabelle_connector.config import HOL_DIR, PROJ_ROOT\n",
    "\n",
    "configs = Namespace(\n",
    "    # dataset_name=\"yalhessi/lemexp\",\n",
    "    # dataset_config=\"hol-thms\",\n",
    "    root_dir=HOL_DIR,\n",
    "    imports=[\n",
    "        PROJ_ROOT / \"isabelle-thys/ExtractLemmas\",\n",
    "        PROJ_ROOT / \"isabelle-thys/RoughSpec\",\n",
    "    ],\n",
    "    # upload=True,\n",
    ")"
   ]
  },
  {
   "cell_type": "code",
   "execution_count": 8,
   "id": "ae40ee6a",
   "metadata": {},
   "outputs": [],
   "source": [
    "from isabelle_connector.extraction import transitions_theory\n",
    "from isabelle_connector.isabelle_utils import get_theory, list_theory_files\n",
    "\n",
    "\n",
    "thy_files = list_theory_files(configs.root_dir)\n",
    "src_thys = [get_theory(theory_file, configs.root_dir) for theory_file in thy_files]\n",
    "transition_thys = [transitions_theory(thy, configs) for thy in src_thys]\n"
   ]
  },
  {
   "cell_type": "code",
   "execution_count": 9,
   "id": "18dbe434",
   "metadata": {},
   "outputs": [
    {
     "name": "stdout",
     "output_type": "stream",
     "text": [
      "Using cached results for 0 / 1462 theories\n",
      "Adding new session for HOL after 2000 theories\n"
     ]
    },
    {
     "data": {
      "application/vnd.jupyter.widget-view+json": {
       "model_id": "0bd0e03d725241848a35658e5e96a4b1",
       "version_major": 2,
       "version_minor": 0
      },
      "text/plain": [
       "DONE:   0%|          | 0/2 [00:00<?, ?it/s]"
      ]
     },
     "metadata": {},
     "output_type": "display_data"
    },
    {
     "name": "stdout",
     "output_type": "stream",
     "text": [
      "Successful values from 1462 / 1462 theories\n",
      "func:use_theories took: 49.11764907836914 sec\n"
     ]
    }
   ],
   "source": [
    "data, errs = isabelle.use_theories(transition_thys, batch_size=1000, recache=True)"
   ]
  },
  {
   "cell_type": "code",
   "execution_count": 10,
   "id": "f460ba20",
   "metadata": {},
   "outputs": [],
   "source": [
    "# data[\"Transitions_ATP\"]"
   ]
  },
  {
   "cell_type": "code",
   "execution_count": null,
   "id": "91ffb959",
   "metadata": {},
   "outputs": [],
   "source": [
    "from isabelle_connector.extraction import template_and_type_extraction_theory\n",
    "\n",
    "\n",
    "extraction_thys = [\n",
    "    template_and_type_extraction_theory(thy, configs) for thy in src_thys\n",
    "]"
   ]
  },
  {
   "cell_type": "code",
   "execution_count": 13,
   "id": "a89c6f6c",
   "metadata": {},
   "outputs": [
    {
     "name": "stdout",
     "output_type": "stream",
     "text": [
      "Using cached results for 0 / 1462 theories\n",
      "Starting session 1 / 78: HOL-Prolog\n",
      "Starting session 2 / 78: HOLCF-IMP\n",
      "Starting session 3 / 78: HOL-Types_To_Sets\n",
      "Starting session 4 / 78: HOL-Predicate_Compile_Examples\n",
      "Starting session 5 / 78: HOL-SPARK-Manual\n",
      "Starting session 6 / 78: HOL-Real_Asymp-Manual\n",
      "Starting session 7 / 78: HOL-Isar_Examples\n",
      "Starting session 8 / 78: HOL-Mutabelle\n",
      "Starting session 9 / 78: HOL-ZF\n",
      "Starting session 10 / 78: HOL-MicroJava\n",
      "Starting session 11 / 78: HOL-IMPP\n",
      "Starting session 12 / 78: IOA-Storage\n",
      "Starting session 13 / 78: HOL-IMP\n",
      "Starting session 14 / 78: HOL-Probability-ex\n",
      "Starting session 15 / 78: HOL-Quotient_Examples\n",
      "Starting session 16 / 78: HOL-Proofs-ex\n"
     ]
    },
    {
     "ename": "KeyboardInterrupt",
     "evalue": "",
     "output_type": "error",
     "traceback": [
      "\u001b[31m---------------------------------------------------------------------------\u001b[39m",
      "\u001b[31mKeyboardInterrupt\u001b[39m                         Traceback (most recent call last)",
      "\u001b[36mCell\u001b[39m\u001b[36m \u001b[39m\u001b[32mIn[13]\u001b[39m\u001b[32m, line 1\u001b[39m\n\u001b[32m----> \u001b[39m\u001b[32m1\u001b[39m data, errs = \u001b[43misabelle\u001b[49m\u001b[43m.\u001b[49m\u001b[43muse_theories\u001b[49m\u001b[43m(\u001b[49m\u001b[43mextraction_thys\u001b[49m\u001b[43m,\u001b[49m\u001b[43m \u001b[49m\u001b[43mbatch_size\u001b[49m\u001b[43m=\u001b[49m\u001b[32;43m1\u001b[39;49m\u001b[43m)\u001b[49m\n",
      "\u001b[36mFile \u001b[39m\u001b[32m~/isabelle-connector/isabelle_connector/decorators.py:134\u001b[39m, in \u001b[36mtiming.<locals>.wrap\u001b[39m\u001b[34m(*args, **kw)\u001b[39m\n\u001b[32m    132\u001b[39m \u001b[38;5;28;01mdef\u001b[39;00m\u001b[38;5;250m \u001b[39m\u001b[34mwrap\u001b[39m(*args, **kw):\n\u001b[32m    133\u001b[39m     ts = time.time()\n\u001b[32m--> \u001b[39m\u001b[32m134\u001b[39m     result = \u001b[43mf\u001b[49m\u001b[43m(\u001b[49m\u001b[43m*\u001b[49m\u001b[43margs\u001b[49m\u001b[43m,\u001b[49m\u001b[43m \u001b[49m\u001b[43m*\u001b[49m\u001b[43m*\u001b[49m\u001b[43mkw\u001b[49m\u001b[43m)\u001b[49m\n\u001b[32m    135\u001b[39m     te = time.time()\n\u001b[32m    136\u001b[39m     \u001b[38;5;28mprint\u001b[39m(\u001b[33mf\u001b[39m\u001b[33m\"\u001b[39m\u001b[33mfunc:\u001b[39m\u001b[38;5;132;01m{\u001b[39;00mf.\u001b[34m__name__\u001b[39m\u001b[38;5;132;01m}\u001b[39;00m\u001b[33m took: \u001b[39m\u001b[38;5;132;01m{\u001b[39;00mte\u001b[38;5;250m \u001b[39m-\u001b[38;5;250m \u001b[39mts\u001b[38;5;132;01m}\u001b[39;00m\u001b[33m sec\u001b[39m\u001b[33m\"\u001b[39m)\n",
      "\u001b[36mFile \u001b[39m\u001b[32m~/isabelle-connector/isabelle_connector/isabelle_connector.py:152\u001b[39m, in \u001b[36mIsabelleConnector.use_theories\u001b[39m\u001b[34m(self, thys, batch_size, rm_if_temp, use_cache, recache, **kwargs)\u001b[39m\n\u001b[32m    148\u001b[39m \u001b[38;5;28mprint\u001b[39m(\u001b[33mf\u001b[39m\u001b[33m\"\u001b[39m\u001b[33mUsing cached results for \u001b[39m\u001b[38;5;132;01m{\u001b[39;00m\u001b[38;5;28mlen\u001b[39m(thys)\u001b[38;5;250m \u001b[39m-\u001b[38;5;250m \u001b[39m\u001b[38;5;28mlen\u001b[39m(unprocessed_thys)\u001b[38;5;132;01m}\u001b[39;00m\u001b[33m / \u001b[39m\u001b[38;5;132;01m{\u001b[39;00m\u001b[38;5;28mlen\u001b[39m(thys)\u001b[38;5;132;01m}\u001b[39;00m\u001b[33m theories\u001b[39m\u001b[33m\"\u001b[39m)\n\u001b[32m    150\u001b[39m \u001b[38;5;28;01mif\u001b[39;00m unprocessed_thys:\n\u001b[32m    151\u001b[39m     \u001b[38;5;66;03m# Prepare sessions for theories that need processing\u001b[39;00m\n\u001b[32m--> \u001b[39m\u001b[32m152\u001b[39m     \u001b[38;5;28;43mself\u001b[39;49m\u001b[43m.\u001b[49m\u001b[43mprepare_sessions\u001b[49m\u001b[43m(\u001b[49m\u001b[43munprocessed_thys\u001b[49m\u001b[43m)\u001b[49m\n\u001b[32m    154\u001b[39m     \u001b[38;5;66;03m# Process theories in batches\u001b[39;00m\n\u001b[32m    155\u001b[39m     in_batch_mode = batch_size > \u001b[32m1\u001b[39m\n",
      "\u001b[36mFile \u001b[39m\u001b[32m~/isabelle-connector/isabelle_connector/isabelle_connector.py:98\u001b[39m, in \u001b[36mIsabelleConnector.prepare_sessions\u001b[39m\u001b[34m(self, thys)\u001b[39m\n\u001b[32m     96\u001b[39m \u001b[38;5;28;01mfor\u001b[39;00m i, session \u001b[38;5;129;01min\u001b[39;00m \u001b[38;5;28menumerate\u001b[39m(sessions.keys()):\n\u001b[32m     97\u001b[39m     \u001b[38;5;28mprint\u001b[39m(\u001b[33mf\u001b[39m\u001b[33m\"\u001b[39m\u001b[33mStarting session \u001b[39m\u001b[38;5;132;01m{\u001b[39;00mi\u001b[38;5;250m \u001b[39m+\u001b[38;5;250m \u001b[39m\u001b[32m1\u001b[39m\u001b[38;5;132;01m}\u001b[39;00m\u001b[33m / \u001b[39m\u001b[38;5;132;01m{\u001b[39;00m\u001b[38;5;28mlen\u001b[39m(sessions)\u001b[38;5;132;01m}\u001b[39;00m\u001b[33m: \u001b[39m\u001b[38;5;132;01m{\u001b[39;00msession\u001b[38;5;132;01m}\u001b[39;00m\u001b[33m\"\u001b[39m)\n\u001b[32m---> \u001b[39m\u001b[32m98\u001b[39m     session_id = \u001b[38;5;28;43mself\u001b[39;49m\u001b[43m.\u001b[49m\u001b[43m_client\u001b[49m\u001b[43m.\u001b[49m\u001b[43msession_start\u001b[49m\u001b[43m(\u001b[49m\n\u001b[32m     99\u001b[39m \u001b[43m        \u001b[49m\u001b[43msession\u001b[49m\u001b[43m,\u001b[49m\u001b[43m \u001b[49m\u001b[43mdirs\u001b[49m\u001b[43m=\u001b[49m\u001b[38;5;28;43mself\u001b[39;49m\u001b[43m.\u001b[49m\u001b[43msession_dirs\u001b[49m\n\u001b[32m    100\u001b[39m \u001b[43m    \u001b[49m\u001b[43m)\u001b[49m\n\u001b[32m    101\u001b[39m     \u001b[38;5;28mself\u001b[39m.session_dict[session] = [session_id]\n\u001b[32m    102\u001b[39m     \u001b[38;5;28mself\u001b[39m.session_counter[session] = \u001b[32m0\u001b[39m\n",
      "\u001b[36mFile \u001b[39m\u001b[32m~/miniconda3/envs/lemexp/lib/python3.12/site-packages/isabelle_client/isabelle__client.py:186\u001b[39m, in \u001b[36mIsabelleClient.session_start\u001b[39m\u001b[34m(self, session, **kwargs)\u001b[39m\n\u001b[32m    184\u001b[39m arguments = {\u001b[33m\"\u001b[39m\u001b[33msession\u001b[39m\u001b[33m\"\u001b[39m: session}\n\u001b[32m    185\u001b[39m arguments.update(kwargs)\n\u001b[32m--> \u001b[39m\u001b[32m186\u001b[39m response_list = \u001b[43masyncio\u001b[49m\u001b[43m.\u001b[49m\u001b[43mrun\u001b[49m\u001b[43m(\u001b[49m\n\u001b[32m    187\u001b[39m \u001b[43m    \u001b[49m\u001b[38;5;28;43mself\u001b[39;49m\u001b[43m.\u001b[49m\u001b[43mexecute_command\u001b[49m\u001b[43m(\u001b[49m\u001b[33;43mf\u001b[39;49m\u001b[33;43m\"\u001b[39;49m\u001b[33;43msession_start \u001b[39;49m\u001b[38;5;132;43;01m{\u001b[39;49;00m\u001b[43mjson\u001b[49m\u001b[43m.\u001b[49m\u001b[43mdumps\u001b[49m\u001b[43m(\u001b[49m\u001b[43marguments\u001b[49m\u001b[43m)\u001b[49m\u001b[38;5;132;43;01m}\u001b[39;49;00m\u001b[33;43m\"\u001b[39;49m\u001b[43m)\u001b[49m\n\u001b[32m    188\u001b[39m \u001b[43m\u001b[49m\u001b[43m)\u001b[49m\n\u001b[32m    189\u001b[39m \u001b[38;5;28;01mif\u001b[39;00m (\n\u001b[32m    190\u001b[39m     response_list[-\u001b[32m1\u001b[39m].response_type\n\u001b[32m    191\u001b[39m     == AsynchronousResultType.FINISHED.value\n\u001b[32m    192\u001b[39m ):\n\u001b[32m    193\u001b[39m     \u001b[38;5;28;01mreturn\u001b[39;00m json.loads(response_list[-\u001b[32m1\u001b[39m].response_body)[\u001b[33m\"\u001b[39m\u001b[33msession_id\u001b[39m\u001b[33m\"\u001b[39m]\n",
      "\u001b[36mFile \u001b[39m\u001b[32m~/miniconda3/envs/lemexp/lib/python3.12/site-packages/nest_asyncio.py:30\u001b[39m, in \u001b[36m_patch_asyncio.<locals>.run\u001b[39m\u001b[34m(main, debug)\u001b[39m\n\u001b[32m     28\u001b[39m task = asyncio.ensure_future(main)\n\u001b[32m     29\u001b[39m \u001b[38;5;28;01mtry\u001b[39;00m:\n\u001b[32m---> \u001b[39m\u001b[32m30\u001b[39m     \u001b[38;5;28;01mreturn\u001b[39;00m \u001b[43mloop\u001b[49m\u001b[43m.\u001b[49m\u001b[43mrun_until_complete\u001b[49m\u001b[43m(\u001b[49m\u001b[43mtask\u001b[49m\u001b[43m)\u001b[49m\n\u001b[32m     31\u001b[39m \u001b[38;5;28;01mfinally\u001b[39;00m:\n\u001b[32m     32\u001b[39m     \u001b[38;5;28;01mif\u001b[39;00m \u001b[38;5;129;01mnot\u001b[39;00m task.done():\n",
      "\u001b[36mFile \u001b[39m\u001b[32m~/miniconda3/envs/lemexp/lib/python3.12/site-packages/nest_asyncio.py:92\u001b[39m, in \u001b[36m_patch_loop.<locals>.run_until_complete\u001b[39m\u001b[34m(self, future)\u001b[39m\n\u001b[32m     90\u001b[39m     f._log_destroy_pending = \u001b[38;5;28;01mFalse\u001b[39;00m\n\u001b[32m     91\u001b[39m \u001b[38;5;28;01mwhile\u001b[39;00m \u001b[38;5;129;01mnot\u001b[39;00m f.done():\n\u001b[32m---> \u001b[39m\u001b[32m92\u001b[39m     \u001b[38;5;28;43mself\u001b[39;49m\u001b[43m.\u001b[49m\u001b[43m_run_once\u001b[49m\u001b[43m(\u001b[49m\u001b[43m)\u001b[49m\n\u001b[32m     93\u001b[39m     \u001b[38;5;28;01mif\u001b[39;00m \u001b[38;5;28mself\u001b[39m._stopping:\n\u001b[32m     94\u001b[39m         \u001b[38;5;28;01mbreak\u001b[39;00m\n",
      "\u001b[36mFile \u001b[39m\u001b[32m~/miniconda3/envs/lemexp/lib/python3.12/site-packages/nest_asyncio.py:115\u001b[39m, in \u001b[36m_patch_loop.<locals>._run_once\u001b[39m\u001b[34m(self)\u001b[39m\n\u001b[32m    108\u001b[39m     heappop(scheduled)\n\u001b[32m    110\u001b[39m timeout = (\n\u001b[32m    111\u001b[39m     \u001b[32m0\u001b[39m \u001b[38;5;28;01mif\u001b[39;00m ready \u001b[38;5;129;01mor\u001b[39;00m \u001b[38;5;28mself\u001b[39m._stopping\n\u001b[32m    112\u001b[39m     \u001b[38;5;28;01melse\u001b[39;00m \u001b[38;5;28mmin\u001b[39m(\u001b[38;5;28mmax\u001b[39m(\n\u001b[32m    113\u001b[39m         scheduled[\u001b[32m0\u001b[39m]._when - \u001b[38;5;28mself\u001b[39m.time(), \u001b[32m0\u001b[39m), \u001b[32m86400\u001b[39m) \u001b[38;5;28;01mif\u001b[39;00m scheduled\n\u001b[32m    114\u001b[39m     \u001b[38;5;28;01melse\u001b[39;00m \u001b[38;5;28;01mNone\u001b[39;00m)\n\u001b[32m--> \u001b[39m\u001b[32m115\u001b[39m event_list = \u001b[38;5;28;43mself\u001b[39;49m\u001b[43m.\u001b[49m\u001b[43m_selector\u001b[49m\u001b[43m.\u001b[49m\u001b[43mselect\u001b[49m\u001b[43m(\u001b[49m\u001b[43mtimeout\u001b[49m\u001b[43m)\u001b[49m\n\u001b[32m    116\u001b[39m \u001b[38;5;28mself\u001b[39m._process_events(event_list)\n\u001b[32m    118\u001b[39m end_time = \u001b[38;5;28mself\u001b[39m.time() + \u001b[38;5;28mself\u001b[39m._clock_resolution\n",
      "\u001b[36mFile \u001b[39m\u001b[32m~/miniconda3/envs/lemexp/lib/python3.12/selectors.py:566\u001b[39m, in \u001b[36mKqueueSelector.select\u001b[39m\u001b[34m(self, timeout)\u001b[39m\n\u001b[32m    564\u001b[39m ready = []\n\u001b[32m    565\u001b[39m \u001b[38;5;28;01mtry\u001b[39;00m:\n\u001b[32m--> \u001b[39m\u001b[32m566\u001b[39m     kev_list = \u001b[38;5;28;43mself\u001b[39;49m\u001b[43m.\u001b[49m\u001b[43m_selector\u001b[49m\u001b[43m.\u001b[49m\u001b[43mcontrol\u001b[49m\u001b[43m(\u001b[49m\u001b[38;5;28;43;01mNone\u001b[39;49;00m\u001b[43m,\u001b[49m\u001b[43m \u001b[49m\u001b[43mmax_ev\u001b[49m\u001b[43m,\u001b[49m\u001b[43m \u001b[49m\u001b[43mtimeout\u001b[49m\u001b[43m)\u001b[49m\n\u001b[32m    567\u001b[39m \u001b[38;5;28;01mexcept\u001b[39;00m \u001b[38;5;167;01mInterruptedError\u001b[39;00m:\n\u001b[32m    568\u001b[39m     \u001b[38;5;28;01mreturn\u001b[39;00m ready\n",
      "\u001b[31mKeyboardInterrupt\u001b[39m: "
     ]
    }
   ],
   "source": [
    "data, errs = isabelle.use_theories(extraction_thys, batch_size=1)"
   ]
  },
  {
   "cell_type": "code",
   "execution_count": null,
   "id": "315b2907",
   "metadata": {},
   "outputs": [],
   "source": []
  }
 ],
 "metadata": {
  "kernelspec": {
   "display_name": "lemexp",
   "language": "python",
   "name": "python3"
  },
  "language_info": {
   "codemirror_mode": {
    "name": "ipython",
    "version": 3
   },
   "file_extension": ".py",
   "mimetype": "text/x-python",
   "name": "python",
   "nbconvert_exporter": "python",
   "pygments_lexer": "ipython3",
   "version": "3.12.9"
  }
 },
 "nbformat": 4,
 "nbformat_minor": 5
}
