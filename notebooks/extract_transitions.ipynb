{
 "cells": [
  {
   "cell_type": "code",
   "execution_count": 1,
   "id": "060f4d38",
   "metadata": {},
   "outputs": [],
   "source": [
    "%load_ext autoreload\n",
    "%autoreload 2"
   ]
  },
  {
   "cell_type": "code",
   "execution_count": 9,
   "id": "bf49d966",
   "metadata": {},
   "outputs": [],
   "source": [
    "from isabelle_connector.isabelle_connector import IsabelleConnector"
   ]
  },
  {
   "cell_type": "code",
   "execution_count": 3,
   "id": "426e8fff",
   "metadata": {},
   "outputs": [
    {
     "name": "stderr",
     "output_type": "stream",
     "text": [
      "### Missing Isabelle component: \"/Users/yousef/.isabelle/contrib/hugo-0.119.0\"\n"
     ]
    }
   ],
   "source": [
    "isabelle = IsabelleConnector(\n",
    "    name=\"extract_transitions\", working_directory=\".\", debug=True\n",
    ")"
   ]
  },
  {
   "cell_type": "code",
   "execution_count": null,
   "id": "a6998d52",
   "metadata": {},
   "outputs": [],
   "source": [
    "from argparse import Namespace\n",
    "\n",
    "from isabelle_connector.config import HOL_DIR, PROJ_ROOT\n",
    "\n",
    "configs = Namespace(\n",
    "    # dataset_name=\"yalhessi/lemexp\",\n",
    "    # dataset_config=\"hol-thms\",\n",
    "    root_dir=HOL_DIR,\n",
    "    imports=[\n",
    "        PROJ_ROOT / \"isabelle-thys/ExtractLemmas\",\n",
    "        PROJ_ROOT / \"template-eval/RoughSpec\",\n",
    "    ],\n",
    "    # upload=True,\n",
    ")"
   ]
  },
  {
   "cell_type": "code",
   "execution_count": 10,
   "id": "ae40ee6a",
   "metadata": {},
   "outputs": [],
   "source": [
    "from isabelle_connector.extraction import transitions_theory\n",
    "from isabelle_connector.isabelle_utils import get_theory, list_theory_files\n",
    "\n",
    "\n",
    "thy_files = list_theory_files(configs.root_dir)\n",
    "src_thys = [get_theory(theory_file, configs.root_dir) for theory_file in thy_files]\n",
    "transition_thys = [transitions_theory(thy, configs) for thy in src_thys]\n"
   ]
  },
  {
   "cell_type": "code",
   "execution_count": 7,
   "id": "18dbe434",
   "metadata": {},
   "outputs": [
    {
     "name": "stdout",
     "output_type": "stream",
     "text": [
      "Using cached results for 1462 / 1462 theories\n",
      "Successful values from 1462 / 1462 theories\n",
      "func:use_theories took: 8.909467935562134 sec\n"
     ]
    }
   ],
   "source": [
    "data, errs = isabelle.use_theories(transition_thys, batch_size=1000, recache=True)"
   ]
  },
  {
   "cell_type": "code",
   "execution_count": null,
   "id": "f460ba20",
   "metadata": {},
   "outputs": [
    {
     "data": {
      "text/plain": [
       "[('ATP',\n",
       "  [('<ignored>',\n",
       "    '(*  Title:      HOL/ATP.thy\\n    Author:     Fabian Immler, TU Muenchen\\n    Author:     Jasmin Blanchette, TU Muenchen\\n    Author:     Martin Desharnais, UniBw Muenchen\\n*)\\n\\n'),\n",
       "   ('section', 'section \\\\<open>Automatic Theorem Provers (ATPs)\\\\<close>'),\n",
       "   ('<ignored>', '\\n\\n'),\n",
       "   ('theory', 'theory ATP\\n  imports Meson Hilbert_Choice\\nbegin'),\n",
       "   ('<ignored>', '\\n\\n'),\n",
       "   ('subsection', 'subsection \\\\<open>ATP problems and proofs\\\\<close>'),\n",
       "   ('<ignored>', '\\n\\n'),\n",
       "   ('ML_file', 'ML_file \\\\<open>Tools/ATP/atp_util.ML\\\\<close>'),\n",
       "   ('<ignored>', '\\n'),\n",
       "   ('ML_file', 'ML_file \\\\<open>Tools/ATP/atp_problem.ML\\\\<close>'),\n",
       "   ('<ignored>', '\\n'),\n",
       "   ('ML_file', 'ML_file \\\\<open>Tools/ATP/atp_proof.ML\\\\<close>'),\n",
       "   ('<ignored>', '\\n'),\n",
       "   ('ML_file', 'ML_file \\\\<open>Tools/ATP/atp_proof_redirect.ML\\\\<close>'),\n",
       "   ('<ignored>', '\\n\\n\\n'),\n",
       "   ('subsection',\n",
       "    'subsection \\\\<open>Higher-order reasoning helpers\\\\<close>'),\n",
       "   ('<ignored>', '\\n\\n'),\n",
       "   ('definition',\n",
       "    'definition fFalse :: bool where\\n\"fFalse \\\\<longleftrightarrow> False\"'),\n",
       "   ('<ignored>', '\\n\\n'),\n",
       "   ('definition',\n",
       "    'definition fTrue :: bool where\\n\"fTrue \\\\<longleftrightarrow> True\"'),\n",
       "   ('<ignored>', '\\n\\n'),\n",
       "   ('definition',\n",
       "    'definition fNot :: \"bool \\\\<Rightarrow> bool\" where\\n\"fNot P \\\\<longleftrightarrow> \\\\<not> P\"'),\n",
       "   ('<ignored>', '\\n\\n'),\n",
       "   ('definition',\n",
       "    'definition fComp :: \"(\\'a \\\\<Rightarrow> bool) \\\\<Rightarrow> \\'a \\\\<Rightarrow> bool\" where\\n\"fComp P = (\\\\<lambda>x. \\\\<not> P x)\"'),\n",
       "   ('<ignored>', '\\n\\n'),\n",
       "   ('definition',\n",
       "    'definition fconj :: \"bool \\\\<Rightarrow> bool \\\\<Rightarrow> bool\" where\\n\"fconj P Q \\\\<longleftrightarrow> P \\\\<and> Q\"'),\n",
       "   ('<ignored>', '\\n\\n'),\n",
       "   ('definition',\n",
       "    'definition fdisj :: \"bool \\\\<Rightarrow> bool \\\\<Rightarrow> bool\" where\\n\"fdisj P Q \\\\<longleftrightarrow> P \\\\<or> Q\"'),\n",
       "   ('<ignored>', '\\n\\n'),\n",
       "   ('definition',\n",
       "    'definition fimplies :: \"bool \\\\<Rightarrow> bool \\\\<Rightarrow> bool\" where\\n\"fimplies P Q \\\\<longleftrightarrow> (P \\\\<longrightarrow> Q)\"'),\n",
       "   ('<ignored>', '\\n\\n'),\n",
       "   ('definition',\n",
       "    'definition fAll :: \"(\\'a \\\\<Rightarrow> bool) \\\\<Rightarrow> bool\" where\\n\"fAll P \\\\<longleftrightarrow> All P\"'),\n",
       "   ('<ignored>', '\\n\\n'),\n",
       "   ('definition',\n",
       "    'definition fEx :: \"(\\'a \\\\<Rightarrow> bool) \\\\<Rightarrow> bool\" where\\n\"fEx P \\\\<longleftrightarrow> Ex P\"'),\n",
       "   ('<ignored>', '\\n\\n'),\n",
       "   ('definition',\n",
       "    'definition fequal :: \"\\'a \\\\<Rightarrow> \\'a \\\\<Rightarrow> bool\" where\\n\"fequal x y \\\\<longleftrightarrow> (x = y)\"'),\n",
       "   ('<ignored>', '\\n\\n'),\n",
       "   ('definition',\n",
       "    'definition fChoice :: \"(\\'a \\\\<Rightarrow> bool) \\\\<Rightarrow> \\'a\" where\\n  \"fChoice \\\\<equiv> Hilbert_Choice.Eps\"'),\n",
       "   ('<ignored>', '\\n\\n'),\n",
       "   ('lemma', 'lemma fTrue_ne_fFalse: \"fFalse \\\\<noteq> fTrue\"'),\n",
       "   ('<ignored>', '\\n'),\n",
       "   ('unfolding', 'unfolding fFalse_def fTrue_def'),\n",
       "   ('<ignored>', ' '),\n",
       "   ('by', 'by simp'),\n",
       "   ('<ignored>', '\\n\\n'),\n",
       "   ('lemma',\n",
       "    'lemma fNot_table:\\n\"fNot fFalse = fTrue\"\\n\"fNot fTrue = fFalse\"'),\n",
       "   ('<ignored>', '\\n'),\n",
       "   ('unfolding', 'unfolding fFalse_def fTrue_def fNot_def'),\n",
       "   ('<ignored>', ' '),\n",
       "   ('by', 'by auto'),\n",
       "   ('<ignored>', '\\n\\n'),\n",
       "   ('lemma',\n",
       "    'lemma fconj_table:\\n\"fconj fFalse P = fFalse\"\\n\"fconj P fFalse = fFalse\"\\n\"fconj fTrue fTrue = fTrue\"'),\n",
       "   ('<ignored>', '\\n'),\n",
       "   ('unfolding', 'unfolding fFalse_def fTrue_def fconj_def'),\n",
       "   ('<ignored>', ' '),\n",
       "   ('by', 'by auto'),\n",
       "   ('<ignored>', '\\n\\n'),\n",
       "   ('lemma',\n",
       "    'lemma fdisj_table:\\n\"fdisj fTrue P = fTrue\"\\n\"fdisj P fTrue = fTrue\"\\n\"fdisj fFalse fFalse = fFalse\"'),\n",
       "   ('<ignored>', '\\n'),\n",
       "   ('unfolding', 'unfolding fFalse_def fTrue_def fdisj_def'),\n",
       "   ('<ignored>', ' '),\n",
       "   ('by', 'by auto'),\n",
       "   ('<ignored>', '\\n\\n'),\n",
       "   ('lemma',\n",
       "    'lemma fimplies_table:\\n\"fimplies P fTrue = fTrue\"\\n\"fimplies fFalse P = fTrue\"\\n\"fimplies fTrue fFalse = fFalse\"'),\n",
       "   ('<ignored>', '\\n'),\n",
       "   ('unfolding', 'unfolding fFalse_def fTrue_def fimplies_def'),\n",
       "   ('<ignored>', ' '),\n",
       "   ('by', 'by auto'),\n",
       "   ('<ignored>', '\\n\\n'),\n",
       "   ('lemma',\n",
       "    'lemma fAll_table:\\n\"Ex (fComp P) \\\\<or> fAll P = fTrue\"\\n\"All P \\\\<or> fAll P = fFalse\"'),\n",
       "   ('<ignored>', '\\n'),\n",
       "   ('unfolding', 'unfolding fFalse_def fTrue_def fComp_def fAll_def'),\n",
       "   ('<ignored>', ' '),\n",
       "   ('by', 'by auto'),\n",
       "   ('<ignored>', '\\n\\n'),\n",
       "   ('lemma',\n",
       "    'lemma fEx_table:\\n\"All (fComp P) \\\\<or> fEx P = fTrue\"\\n\"Ex P \\\\<or> fEx P = fFalse\"'),\n",
       "   ('<ignored>', '\\n'),\n",
       "   ('unfolding', 'unfolding fFalse_def fTrue_def fComp_def fEx_def'),\n",
       "   ('<ignored>', ' '),\n",
       "   ('by', 'by auto'),\n",
       "   ('<ignored>', '\\n\\n'),\n",
       "   ('lemma',\n",
       "    'lemma fequal_table:\\n\"fequal x x = fTrue\"\\n\"x = y \\\\<or> fequal x y = fFalse\"'),\n",
       "   ('<ignored>', '\\n'),\n",
       "   ('unfolding', 'unfolding fFalse_def fTrue_def fequal_def'),\n",
       "   ('<ignored>', ' '),\n",
       "   ('by', 'by auto'),\n",
       "   ('<ignored>', '\\n\\n'),\n",
       "   ('lemma', 'lemma fNot_law:\\n\"fNot P \\\\<noteq> P\"'),\n",
       "   ('<ignored>', '\\n'),\n",
       "   ('unfolding', 'unfolding fNot_def'),\n",
       "   ('<ignored>', ' '),\n",
       "   ('by', 'by auto'),\n",
       "   ('<ignored>', '\\n\\n'),\n",
       "   ('lemma',\n",
       "    'lemma fComp_law:\\n\"fComp P x \\\\<longleftrightarrow> \\\\<not> P x\"'),\n",
       "   ('<ignored>', '\\n'),\n",
       "   ('unfolding', 'unfolding fComp_def'),\n",
       "   ('<ignored>', ' '),\n",
       "   ('..', '..'),\n",
       "   ('<ignored>', '\\n\\n'),\n",
       "   ('lemma',\n",
       "    'lemma fconj_laws:\\n\"fconj P P \\\\<longleftrightarrow> P\"\\n\"fconj P Q \\\\<longleftrightarrow> fconj Q P\"\\n\"fNot (fconj P Q) \\\\<longleftrightarrow> fdisj (fNot P) (fNot Q)\"'),\n",
       "   ('<ignored>', '\\n'),\n",
       "   ('unfolding', 'unfolding fNot_def fconj_def fdisj_def'),\n",
       "   ('<ignored>', ' '),\n",
       "   ('by', 'by auto'),\n",
       "   ('<ignored>', '\\n\\n'),\n",
       "   ('lemma',\n",
       "    'lemma fdisj_laws:\\n\"fdisj P P \\\\<longleftrightarrow> P\"\\n\"fdisj P Q \\\\<longleftrightarrow> fdisj Q P\"\\n\"fNot (fdisj P Q) \\\\<longleftrightarrow> fconj (fNot P) (fNot Q)\"'),\n",
       "   ('<ignored>', '\\n'),\n",
       "   ('unfolding', 'unfolding fNot_def fconj_def fdisj_def'),\n",
       "   ('<ignored>', ' '),\n",
       "   ('by', 'by auto'),\n",
       "   ('<ignored>', '\\n\\n'),\n",
       "   ('lemma',\n",
       "    'lemma fimplies_laws:\\n\"fimplies P Q \\\\<longleftrightarrow> fdisj (\\\\<not> P) Q\"\\n\"fNot (fimplies P Q) \\\\<longleftrightarrow> fconj P (fNot Q)\"'),\n",
       "   ('<ignored>', '\\n'),\n",
       "   ('unfolding', 'unfolding fNot_def fconj_def fdisj_def fimplies_def'),\n",
       "   ('<ignored>', ' '),\n",
       "   ('by', 'by auto'),\n",
       "   ('<ignored>', '\\n\\n'),\n",
       "   ('lemma',\n",
       "    'lemma fAll_law:\\n\"fNot (fAll R) \\\\<longleftrightarrow> fEx (fComp R)\"'),\n",
       "   ('<ignored>', '\\n'),\n",
       "   ('unfolding', 'unfolding fNot_def fComp_def fAll_def fEx_def'),\n",
       "   ('<ignored>', ' '),\n",
       "   ('by', 'by auto'),\n",
       "   ('<ignored>', '\\n\\n'),\n",
       "   ('lemma',\n",
       "    'lemma fEx_law:\\n\"fNot (fEx R) \\\\<longleftrightarrow> fAll (fComp R)\"'),\n",
       "   ('<ignored>', '\\n'),\n",
       "   ('unfolding', 'unfolding fNot_def fComp_def fAll_def fEx_def'),\n",
       "   ('<ignored>', ' '),\n",
       "   ('by', 'by auto'),\n",
       "   ('<ignored>', '\\n\\n'),\n",
       "   ('lemma',\n",
       "    'lemma fequal_laws:\\n\"fequal x y = fequal y x\"\\n\"fequal x y = fFalse \\\\<or> fequal y z = fFalse \\\\<or> fequal x z = fTrue\"\\n\"fequal x y = fFalse \\\\<or> fequal (f x) (f y) = fTrue\"'),\n",
       "   ('<ignored>', '\\n'),\n",
       "   ('unfolding', 'unfolding fFalse_def fTrue_def fequal_def'),\n",
       "   ('<ignored>', ' '),\n",
       "   ('by', 'by auto'),\n",
       "   ('<ignored>', '\\n\\n'),\n",
       "   ('lemma',\n",
       "    'lemma fChoice_iff_Ex: \"P (fChoice P) \\\\<longleftrightarrow> HOL.Ex P\"'),\n",
       "   ('<ignored>', '\\n  '),\n",
       "   ('unfolding', 'unfolding fChoice_def'),\n",
       "   ('<ignored>', '\\n  '),\n",
       "   ('by', 'by (fact some_eq_ex)'),\n",
       "   ('<ignored>', '\\n\\n'),\n",
       "   ('text',\n",
       "    'text \\\\<open>\\nWe use the @{const HOL.Ex} constant on the right-hand side of @{thm [source] fChoice_iff_Ex} because\\nwe want to use the TPTP-native version if fChoice is introduced in a logic that supports FOOL.\\nIn logics that don\\'t support it, it gets replaced by fEx during processing.\\nNotice that we cannot use @{term \"\\\\<exists>x. P x\"}, as existentials are not skolimized by the metis proof\\nmethod but @{term \"Ex P\"} is eta-expanded if FOOL is supported.\\\\<close>'),\n",
       "   ('<ignored>', '\\n\\n'),\n",
       "   ('subsection',\n",
       "    'subsection \\\\<open>Basic connection between ATPs and HOL\\\\<close>'),\n",
       "   ('<ignored>', '\\n\\n'),\n",
       "   ('ML_file', 'ML_file \\\\<open>Tools/lambda_lifting.ML\\\\<close>'),\n",
       "   ('<ignored>', '\\n'),\n",
       "   ('ML_file', 'ML_file \\\\<open>Tools/monomorph.ML\\\\<close>'),\n",
       "   ('<ignored>', '\\n'),\n",
       "   ('ML_file', 'ML_file \\\\<open>Tools/ATP/atp_problem_generate.ML\\\\<close>'),\n",
       "   ('<ignored>', '\\n'),\n",
       "   ('ML_file', 'ML_file \\\\<open>Tools/ATP/atp_proof_reconstruct.ML\\\\<close>'),\n",
       "   ('<ignored>', '\\n\\n'),\n",
       "   ('end', 'end'),\n",
       "   ('<ignored>', '\\n')])]"
      ]
     },
     "execution_count": 8,
     "metadata": {},
     "output_type": "execute_result"
    }
   ],
   "source": [
    "# data[\"Transitions_ATP\"]"
   ]
  },
  {
   "cell_type": "code",
   "execution_count": null,
   "id": "91ffb959",
   "metadata": {},
   "outputs": [
    {
     "ename": "NameError",
     "evalue": "name 'template_extraction_theory' is not defined",
     "output_type": "error",
     "traceback": [
      "\u001b[31m---------------------------------------------------------------------------\u001b[39m",
      "\u001b[31mNameError\u001b[39m                                 Traceback (most recent call last)",
      "\u001b[36mCell\u001b[39m\u001b[36m \u001b[39m\u001b[32mIn[11]\u001b[39m\u001b[32m, line 1\u001b[39m\n\u001b[32m----> \u001b[39m\u001b[32m1\u001b[39m extraction_thys = [\u001b[43mtemplate_extraction_theory\u001b[49m(thy, configs) \u001b[38;5;28;01mfor\u001b[39;00m thy \u001b[38;5;129;01min\u001b[39;00m src_thys]\n",
      "\u001b[31mNameError\u001b[39m: name 'template_extraction_theory' is not defined"
     ]
    }
   ],
   "source": [
    "extraction_thys = [\n",
    "    template_and_type_extraction_theory(thy, configs) for thy in src_thys\n",
    "]"
   ]
  },
  {
   "cell_type": "code",
   "execution_count": null,
   "id": "a89c6f6c",
   "metadata": {},
   "outputs": [
    {
     "name": "stderr",
     "output_type": "stream",
     "text": [
      "<>:2: SyntaxWarning: invalid escape sequence '\\<'\n",
      "<>:2: SyntaxWarning: invalid escape sequence '\\<'\n",
      "/var/folders/sq/4j3r_9jx2qd6nxd1wdvz92200000gn/T/ipykernel_84754/3468013605.py:2: SyntaxWarning: invalid escape sequence '\\<'\n",
      "  ast.literal_eval('\"\\<open>\"')\n",
      "<unknown>:1: SyntaxWarning: invalid escape sequence '\\<'\n"
     ]
    },
    {
     "data": {
      "text/plain": [
       "'\\\\<open>'"
      ]
     },
     "execution_count": 9,
     "metadata": {},
     "output_type": "execute_result"
    }
   ],
   "source": [
    "import ast\n",
    "\n",
    "ast.literal_eval('\"\\<open>\"')"
   ]
  },
  {
   "cell_type": "code",
   "execution_count": null,
   "id": "315b2907",
   "metadata": {},
   "outputs": [],
   "source": []
  }
 ],
 "metadata": {
  "kernelspec": {
   "display_name": "lemexp",
   "language": "python",
   "name": "python3"
  },
  "language_info": {
   "codemirror_mode": {
    "name": "ipython",
    "version": 3
   },
   "file_extension": ".py",
   "mimetype": "text/x-python",
   "name": "python",
   "nbconvert_exporter": "python",
   "pygments_lexer": "ipython3",
   "version": "3.12.9"
  }
 },
 "nbformat": 4,
 "nbformat_minor": 5
}
