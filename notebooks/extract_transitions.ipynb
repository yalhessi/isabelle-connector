{
 "cells": [
  {
   "cell_type": "code",
   "execution_count": 1,
   "id": "060f4d38",
   "metadata": {},
   "outputs": [],
   "source": [
    "%load_ext autoreload\n",
    "%autoreload 2"
   ]
  },
  {
   "cell_type": "code",
   "execution_count": 2,
   "id": "bf49d966",
   "metadata": {},
   "outputs": [],
   "source": [
    "from isabelle_connector.isabelle_connector import IsabelleConnector"
   ]
  },
  {
   "cell_type": "code",
   "execution_count": null,
   "id": "426e8fff",
   "metadata": {},
   "outputs": [],
   "source": [
    "isabelle = IsabelleConnector(\n",
    "    name=\"extract_transitions\", working_directory=\".\", debug=True\n",
    ")"
   ]
  },
  {
   "cell_type": "code",
   "execution_count": 4,
   "id": "a6998d52",
   "metadata": {},
   "outputs": [],
   "source": [
    "from argparse import Namespace\n",
    "\n",
    "from isabelle_connector.config import HOL_DIR, PROJ_ROOT\n",
    "\n",
    "configs = Namespace(\n",
    "    # dataset_name=\"yalhessi/lemexp\",\n",
    "    # dataset_config=\"hol-thms\",\n",
    "    root_dir=HOL_DIR,\n",
    "    imports=[\n",
    "        PROJ_ROOT / \"isabelle-thys/ExtractLemmas\",\n",
    "        PROJ_ROOT / \"isabelle-thys/RoughSpec\",\n",
    "    ],\n",
    "    # upload=True,\n",
    ")"
   ]
  },
  {
   "cell_type": "code",
   "execution_count": 5,
   "id": "ae40ee6a",
   "metadata": {},
   "outputs": [],
   "source": [
    "from isabelle_connector.data_extraction import transitions_theory\n",
    "from isabelle_connector.utils import get_theory, list_theory_files\n",
    "\n",
    "\n",
    "thy_files = list_theory_files(configs.root_dir)\n",
    "src_thys = [get_theory(theory_file, configs.root_dir) for theory_file in thy_files]\n",
    "transition_thys = [transitions_theory(thy, configs) for thy in src_thys]\n"
   ]
  },
  {
   "cell_type": "code",
   "execution_count": null,
   "id": "18dbe434",
   "metadata": {},
   "outputs": [],
   "source": [
    "data, errs = isabelle.use_theories(transition_thys, batch_size=1000, use_cache=False)"
   ]
  },
  {
   "cell_type": "code",
   "execution_count": null,
   "id": "91ffb959",
   "metadata": {},
   "outputs": [],
   "source": [
    "from isabelle_connector.data_extraction import template_and_type_extraction_theory\n",
    "\n",
    "\n",
    "extraction_thys = [\n",
    "    template_and_type_extraction_theory(thy, configs) for thy in src_thys\n",
    "]"
   ]
  },
  {
   "cell_type": "code",
   "execution_count": null,
   "id": "a89c6f6c",
   "metadata": {},
   "outputs": [],
   "source": [
    "data, errs = isabelle.use_theories(extraction_thys, batch_size=1)"
   ]
  },
  {
   "cell_type": "code",
   "execution_count": null,
   "id": "315b2907",
   "metadata": {},
   "outputs": [],
   "source": [
    "failed_thys = [thy for thy in extraction_thys if errs[thy]]\n",
    "print(f\"Length of failed theories: {len(failed_thys)}\")"
   ]
  },
  {
   "cell_type": "code",
   "execution_count": null,
   "id": "ba08bcde",
   "metadata": {},
   "outputs": [],
   "source": [
    "silent_thys = [thy for thy in extraction_thys if not errs[thy] and not data[thy]]\n",
    "print(f\"Length of silent theories: {len(silent_thys)}\")"
   ]
  }
 ],
 "metadata": {
  "kernelspec": {
   "display_name": "lemexp",
   "language": "python",
   "name": "python3"
  },
  "language_info": {
   "codemirror_mode": {
    "name": "ipython",
    "version": 3
   },
   "file_extension": ".py",
   "mimetype": "text/x-python",
   "name": "python",
   "nbconvert_exporter": "python",
   "pygments_lexer": "ipython3",
   "version": "3.12.8"
  }
 },
 "nbformat": 4,
 "nbformat_minor": 5
}
